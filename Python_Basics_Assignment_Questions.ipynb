{
  "nbformat": 4,
  "nbformat_minor": 0,
  "metadata": {
    "colab": {
      "provenance": []
    },
    "kernelspec": {
      "name": "python3",
      "display_name": "Python 3"
    },
    "language_info": {
      "name": "python"
    }
  },
  "cells": [
    {
      "cell_type": "markdown",
      "source": [
        "# Python Basics"
      ],
      "metadata": {
        "id": "Mp6O2siPuz88"
      }
    },
    {
      "cell_type": "markdown",
      "source": [
        "**1.** **What is Python, and why is it popular?**\n",
        "\n",
        "-  Python is a high-level, interpreted programming language known for its simplicity and readability.\n",
        "   \n",
        "- Popularity reasons:\n",
        "\n",
        "   Easy syntax (close to English)\n",
        "\n",
        "   Large standard library\n",
        "\n",
        "   Extensive community support\n",
        "\n",
        "   Versatile (used in web dev, data science, AI, etc.)\n",
        "\n",
        "\n",
        "\n"
      ],
      "metadata": {
        "id": "rqfDKE_ru4dR"
      }
    },
    {
      "cell_type": "markdown",
      "source": [
        "**2. What is an interpreter in Python?**\n",
        "\n",
        "- An interpreter is a program that reads and executes Python code line by line, converting it into machine code during runtime. Python uses an interpreter (not a compiler), which makes it easier to debug and test.\n",
        "\n"
      ],
      "metadata": {
        "id": "LYQg4cX0vx-1"
      }
    },
    {
      "cell_type": "markdown",
      "source": [
        "**3. What are pre-defined keywords in Python?**\n",
        "\n",
        "- Keywords are reserved words that have special meaning in Python (e.g., if, else, while, class, import). You cannot use them as identifiers or variable names."
      ],
      "metadata": {
        "id": "gtixRkDcwFLd"
      }
    },
    {
      "cell_type": "markdown",
      "source": [
        "**4. Can keywords be used as variable names?**\n",
        "\n",
        "- No, keywords cannot be used as variable names because they are reserved for specific language syntax and functions.\n",
        "\n"
      ],
      "metadata": {
        "id": "JaI7ai3wwNh4"
      }
    },
    {
      "cell_type": "markdown",
      "source": [
        "**5. What is mutability in Python?**\n",
        "\n",
        "-  Mutability refers to whether an object’s value can be changed after it's created.\n",
        "\n",
        "-  Mutable objects: Can be changed (e.g., lists, dictionaries).\n",
        "\n",
        "-  Immutable objects: Cannot be changed (e.g., strings, tuples).\n",
        "\n"
      ],
      "metadata": {
        "id": "SwpOMwRAwZHQ"
      }
    },
    {
      "cell_type": "markdown",
      "source": [
        "**6. Why are lists mutable, but tuples are immutable?**\n",
        "\n",
        "- Lists are designed for collections that may change (add/remove elements).\n",
        "Tuples are meant for fixed collections of items, ensuring data safety and hashability (e.g., as keys in dictionaries)."
      ],
      "metadata": {
        "id": "XPa34Mk7wpPb"
      }
    },
    {
      "cell_type": "markdown",
      "source": [
        "**7. What is the difference between == and is operators in Python?**\n",
        "\n",
        "- == checks value equality (do the variables contain the same value?).\n",
        "\n",
        "- is checks identity (do the variables point to the same object in memory?)."
      ],
      "metadata": {
        "id": "78tcHVZWw3Xk"
      }
    },
    {
      "cell_type": "markdown",
      "source": [
        "**8. What are logical operators in Python?**\n",
        "\n",
        "- Python has three logical operators:\n",
        "\n",
        "- and: True if both conditions are True\n",
        "\n",
        "- or: True if at least one condition is True\n",
        "\n",
        "- not: Inverts the condition"
      ],
      "metadata": {
        "id": "Uav6VZPHxIdj"
      }
    },
    {
      "cell_type": "markdown",
      "source": [
        "**9. What is type casting in Python?**\n",
        "\n",
        "- Type casting is converting one data type into another, like int(\"10\") or float(5)."
      ],
      "metadata": {
        "id": "CUFZlQHOxEY-"
      }
    },
    {
      "cell_type": "markdown",
      "source": [
        "**10. What is the difference between implicit and explicit type casting?**\n",
        "\n",
        "- Implicit casting: Done automatically by Python (e.g., int + float → float).\n",
        "\n",
        "- Explicit casting: Done manually by the programmer (e.g., int(\"5\")).\n",
        "\n"
      ],
      "metadata": {
        "id": "kRmk3Gu8yZXU"
      }
    },
    {
      "cell_type": "markdown",
      "source": [
        "**11. What is the purpose of conditional statements in Python?**\n",
        "\n",
        "- Conditional statements (if, elif, else) allow your program to make decisions based on conditions. They control the flow of execution."
      ],
      "metadata": {
        "id": "hX2BCzgfyhX2"
      }
    },
    {
      "cell_type": "markdown",
      "source": [
        "**12. How does the elif statement work?**\n",
        "\n",
        "- elif (else if) lets you check multiple conditions after an initial if. It runs only if the previous if or elif was false."
      ],
      "metadata": {
        "id": "n6-Cw0ylxkwY"
      }
    },
    {
      "cell_type": "markdown",
      "source": [
        "**13. What is the difference between for and while loops?**\n",
        "\n",
        "- for loop: Iterates over a sequence (like a list or range).\n",
        "\n",
        "- while loop: Runs as long as a condition is True.\n",
        "\n"
      ],
      "metadata": {
        "id": "M5VZUBNZxsOD"
      }
    },
    {
      "cell_type": "markdown",
      "source": [
        "**14. Describe a scenario where a while loop is more suitable than a for loop**\n",
        "\n",
        "- Use a while loop when you don't know in advance how many times to loop, such as waiting for user input or checking for a sensor signal:"
      ],
      "metadata": {
        "id": "r8EX15LhyBiB"
      }
    },
    {
      "cell_type": "markdown",
      "source": [
        "# Practical Questions"
      ],
      "metadata": {
        "id": "XkLPJq6gmrT6"
      }
    },
    {
      "cell_type": "code",
      "source": [
        "#1 Write a Python program to print \"Hello, World!\n",
        "\n",
        "print(\"Hello, World!\")\n"
      ],
      "metadata": {
        "id": "hziMirSwyqm1",
        "colab": {
          "base_uri": "https://localhost:8080/"
        },
        "outputId": "388a6e21-ac23-4d1b-a8fc-ed8173e92721"
      },
      "execution_count": 1,
      "outputs": [
        {
          "output_type": "stream",
          "name": "stdout",
          "text": [
            "Hello, World!\n"
          ]
        }
      ]
    },
    {
      "cell_type": "code",
      "source": [
        "#2  Write a Python program that displays your name and age\n",
        "\n",
        "name = \"Sonu\"\n",
        "age = 21\n",
        "print(f\"My name is {name} and I am {age} years old.\")\n"
      ],
      "metadata": {
        "colab": {
          "base_uri": "https://localhost:8080/"
        },
        "id": "Y57mm8QSniFW",
        "outputId": "bd9ca451-0a9e-4f67-c481-9243a8a1bd3e"
      },
      "execution_count": 2,
      "outputs": [
        {
          "output_type": "stream",
          "name": "stdout",
          "text": [
            "My name is Sonu and I am 21 years old.\n"
          ]
        }
      ]
    },
    {
      "cell_type": "code",
      "source": [
        "#3  Write code to print all the pre-defined keywords in Python using the keyword library\n",
        "\n",
        "import keyword\n",
        "print(\"Python Keywords are:\")\n",
        "print(keyword.kwlist)\n"
      ],
      "metadata": {
        "colab": {
          "base_uri": "https://localhost:8080/"
        },
        "id": "UNowBvdwn3Sw",
        "outputId": "ed08c561-c96a-4bc5-d6f5-352f9f85a5b5"
      },
      "execution_count": 3,
      "outputs": [
        {
          "output_type": "stream",
          "name": "stdout",
          "text": [
            "Python Keywords are:\n",
            "['False', 'None', 'True', 'and', 'as', 'assert', 'async', 'await', 'break', 'class', 'continue', 'def', 'del', 'elif', 'else', 'except', 'finally', 'for', 'from', 'global', 'if', 'import', 'in', 'is', 'lambda', 'nonlocal', 'not', 'or', 'pass', 'raise', 'return', 'try', 'while', 'with', 'yield']\n"
          ]
        }
      ]
    },
    {
      "cell_type": "code",
      "source": [
        "#4 Write a program that checks if a given word is a Python keyword\n",
        "\n",
        "import keyword\n",
        "word = input(\"Enter a word: \")\n",
        "if keyword.iskeyword(word):\n",
        "    print(f\"'{word}' is a Python keyword.\")\n",
        "else:\n",
        "    print(f\"'{word}' is not a Python keyword.\")\n"
      ],
      "metadata": {
        "colab": {
          "base_uri": "https://localhost:8080/"
        },
        "id": "aFBsbYQEoJdJ",
        "outputId": "40eb4984-e7f5-4511-9bc5-99c733c206d7"
      },
      "execution_count": 5,
      "outputs": [
        {
          "output_type": "stream",
          "name": "stdout",
          "text": [
            "Enter a word: false\n",
            "'false' is not a Python keyword.\n"
          ]
        }
      ]
    },
    {
      "cell_type": "code",
      "source": [
        "#5 Create a list and tuple in Python, and demonstrate how attempting to change an element works differently for each\n",
        "\n",
        "# List (Mutable)\n",
        "my_list = [1, 2, 3]\n",
        "my_list[0] = 100\n",
        "print(\"Updated List:\", my_list)\n",
        "\n",
        "# Tuple (Immutable)\n",
        "my_tuple = (1, 2, 3)\n",
        "try:\n",
        "    my_tuple[0] = 100\n",
        "except TypeError as e:\n",
        "    print(\"Error:\", e)\n"
      ],
      "metadata": {
        "colab": {
          "base_uri": "https://localhost:8080/"
        },
        "id": "6f9xpStvog_p",
        "outputId": "04d9ae53-4fc6-4ea2-e720-78c66f55e23a"
      },
      "execution_count": 6,
      "outputs": [
        {
          "output_type": "stream",
          "name": "stdout",
          "text": [
            "Updated List: [100, 2, 3]\n",
            "Error: 'tuple' object does not support item assignment\n"
          ]
        }
      ]
    },
    {
      "cell_type": "code",
      "source": [
        "#6  Write a function to demonstrate the behavior of mutable and immutable arguments\n",
        "\n",
        "def modify_list(lst):\n",
        "    lst.append(100)\n",
        "\n",
        "def modify_number(num):\n",
        "    num += 10\n",
        "\n",
        "my_list = [1, 2, 3]\n",
        "my_number = 5\n",
        "\n",
        "modify_list(my_list)\n",
        "modify_number(my_number)\n",
        "\n",
        "print(\"List after function call:\", my_list)      # Modified (Mutable)\n",
        "print(\"Number after function call:\", my_number) # Not Modified (Immutable)\n"
      ],
      "metadata": {
        "colab": {
          "base_uri": "https://localhost:8080/"
        },
        "id": "RVjRXraeo5Qn",
        "outputId": "f7067df1-99d4-48dc-9630-b8d05e7247ac"
      },
      "execution_count": 7,
      "outputs": [
        {
          "output_type": "stream",
          "name": "stdout",
          "text": [
            "List after function call: [1, 2, 3, 100]\n",
            "Number after function call: 5\n"
          ]
        }
      ]
    },
    {
      "cell_type": "code",
      "source": [
        "#7 Write a program that performs basic arithmetic operations on two user-input numbers\n",
        "\n",
        "a = float(input(\"Enter first number: \"))\n",
        "b = float(input(\"Enter second number: \"))\n",
        "\n",
        "print(\"Addition:\", a + b)\n",
        "print(\"Subtraction:\", a - b)\n",
        "print(\"Multiplication:\", a * b)\n",
        "print(\"Division:\", a / b)\n"
      ],
      "metadata": {
        "colab": {
          "base_uri": "https://localhost:8080/"
        },
        "id": "Y8DOQ71wpQ4X",
        "outputId": "446a5565-cbfc-400b-bd8e-9dd04ad49183"
      },
      "execution_count": 8,
      "outputs": [
        {
          "output_type": "stream",
          "name": "stdout",
          "text": [
            "Enter first number: 4\n",
            "Enter second number: 6\n",
            "Addition: 10.0\n",
            "Subtraction: -2.0\n",
            "Multiplication: 24.0\n",
            "Division: 0.6666666666666666\n"
          ]
        }
      ]
    },
    {
      "cell_type": "code",
      "source": [
        "#8 Write a program to demonstrate the use of logical operators\n",
        "\n",
        "a = True\n",
        "b = False\n",
        "print(\"a and b:\", a and b)\n",
        "print(\"a or b:\", a or b)\n",
        "print(\"not a:\", not a)\n"
      ],
      "metadata": {
        "colab": {
          "base_uri": "https://localhost:8080/"
        },
        "id": "K4tYqzCtpf6s",
        "outputId": "4530d80b-cb23-4718-94e2-bb0d32a8efdc"
      },
      "execution_count": 9,
      "outputs": [
        {
          "output_type": "stream",
          "name": "stdout",
          "text": [
            "a and b: False\n",
            "a or b: True\n",
            "not a: False\n"
          ]
        }
      ]
    },
    {
      "cell_type": "code",
      "source": [
        "#9  Write a Python program to convert user input from string to integer, float, and boolean types\n",
        "\n",
        "user_input = input(\"Enter something: \")\n",
        "\n",
        "as_int = int(user_input)\n",
        "as_float = float(user_input)\n",
        "as_bool = bool(user_input)\n",
        "\n",
        "print(\"Integer:\", as_int)\n",
        "print(\"Float:\", as_float)\n",
        "print(\"Boolean:\", as_bool)\n"
      ],
      "metadata": {
        "colab": {
          "base_uri": "https://localhost:8080/"
        },
        "id": "Nbs3Hu_aptTT",
        "outputId": "c05adc54-113f-4975-96e4-07e925cb20bc"
      },
      "execution_count": 10,
      "outputs": [
        {
          "output_type": "stream",
          "name": "stdout",
          "text": [
            "Enter something: 45\n",
            "Integer: 45\n",
            "Float: 45.0\n",
            "Boolean: True\n"
          ]
        }
      ]
    },
    {
      "cell_type": "code",
      "source": [
        "#10 Write code to demonstrate type casting with list elements\n",
        "\n",
        "str_list = ['1', '2', '3']\n",
        "int_list = [int(i) for i in str_list]\n",
        "print(\"Converted Integer List:\", int_list)\n"
      ],
      "metadata": {
        "colab": {
          "base_uri": "https://localhost:8080/"
        },
        "id": "Q2YT5hjQqAA7",
        "outputId": "262fe1ae-3d8a-4321-b12c-32f8d7faa128"
      },
      "execution_count": 11,
      "outputs": [
        {
          "output_type": "stream",
          "name": "stdout",
          "text": [
            "Converted Integer List: [1, 2, 3]\n"
          ]
        }
      ]
    },
    {
      "cell_type": "code",
      "source": [
        "#11 Write a program that checks if a number is positive, negative, or zero.\n",
        "\n",
        "num = float(input(\"Enter a number: \"))\n",
        "if num > 0:\n",
        "    print(\"Positive number\")\n",
        "elif num < 0:\n",
        "    print(\"Negative number\")\n",
        "else:\n",
        "    print(\"Zero\")\n"
      ],
      "metadata": {
        "colab": {
          "base_uri": "https://localhost:8080/"
        },
        "id": "idJzFju_qQPZ",
        "outputId": "24ef2620-50a7-45e8-de82-6a56dd6e5f95"
      },
      "execution_count": 12,
      "outputs": [
        {
          "output_type": "stream",
          "name": "stdout",
          "text": [
            "Enter a number: 3\n",
            "Positive number\n"
          ]
        }
      ]
    },
    {
      "cell_type": "code",
      "source": [
        "#12  Write a for loop to print numbers from 1 to 10\n",
        "\n",
        "for i in range(1, 11):\n",
        "    print(i)\n"
      ],
      "metadata": {
        "colab": {
          "base_uri": "https://localhost:8080/"
        },
        "id": "4efTsSmpqbnC",
        "outputId": "16860e37-5787-4924-d33a-88292a72e05a"
      },
      "execution_count": 13,
      "outputs": [
        {
          "output_type": "stream",
          "name": "stdout",
          "text": [
            "1\n",
            "2\n",
            "3\n",
            "4\n",
            "5\n",
            "6\n",
            "7\n",
            "8\n",
            "9\n",
            "10\n"
          ]
        }
      ]
    },
    {
      "cell_type": "code",
      "source": [
        "#13 Write a Python program to find the sum of all even numbers between 1 and 50\n",
        "\n",
        "sum_even = 0\n",
        "for i in range(2, 51, 2):\n",
        "    sum_even += i\n",
        "print(\"Sum of even numbers from 1 to 50:\", sum_even)\n"
      ],
      "metadata": {
        "colab": {
          "base_uri": "https://localhost:8080/"
        },
        "id": "k3F5qb8_qms1",
        "outputId": "bdf8f564-9d33-4b2d-de93-7618fbd87234"
      },
      "execution_count": 14,
      "outputs": [
        {
          "output_type": "stream",
          "name": "stdout",
          "text": [
            "Sum of even numbers from 1 to 50: 650\n"
          ]
        }
      ]
    },
    {
      "cell_type": "code",
      "source": [
        "#14  Write a program to reverse a string using a while loop\n",
        "\n",
        "string = input(\"Enter a string: \")\n",
        "reversed_str = \"\"\n",
        "index = len(string) - 1\n",
        "\n",
        "while index >= 0:\n",
        "    reversed_str += string[index]\n",
        "    index -= 1\n",
        "\n",
        "print(\"Reversed String:\", reversed_str)\n"
      ],
      "metadata": {
        "colab": {
          "base_uri": "https://localhost:8080/"
        },
        "id": "0SOZZU06qxKI",
        "outputId": "40aeb788-9e9e-4797-d9ed-2809c2109fd5"
      },
      "execution_count": 15,
      "outputs": [
        {
          "output_type": "stream",
          "name": "stdout",
          "text": [
            "Enter a string: abcdfg\n",
            "Reversed String: gfdcba\n"
          ]
        }
      ]
    },
    {
      "cell_type": "code",
      "source": [
        "#15 Write a Python program to calculate the factorial of a number provided by the user using a while loop\n",
        "\n",
        "num = int(input(\"Enter a number: \"))\n",
        "factorial = 1\n",
        "temp = num\n",
        "\n",
        "while temp > 1:\n",
        "    factorial *= temp\n",
        "    temp -= 1\n",
        "\n",
        "print(f\"Factorial of {num} is {factorial}\")\n"
      ],
      "metadata": {
        "colab": {
          "base_uri": "https://localhost:8080/"
        },
        "id": "bTvibFZTq_bq",
        "outputId": "0afdf251-17fd-45e4-ae4f-52ca649e668c"
      },
      "execution_count": 16,
      "outputs": [
        {
          "output_type": "stream",
          "name": "stdout",
          "text": [
            "Enter a number: 5\n",
            "Factorial of 5 is 120\n"
          ]
        }
      ]
    }
  ]
}